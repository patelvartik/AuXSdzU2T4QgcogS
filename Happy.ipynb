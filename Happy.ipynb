{
 "cells": [
  {
   "cell_type": "markdown",
   "id": "5aac05fb",
   "metadata": {},
   "source": [
    "# Happy Customer Survay"
   ]
  },
  {
   "cell_type": "markdown",
   "id": "f6f7bdf9",
   "metadata": {},
   "source": [
    "## 1. Explorative Data Analysis"
   ]
  },
  {
   "cell_type": "markdown",
   "id": "f1f9d81b",
   "metadata": {},
   "source": [
    "### 1.1. Data Import"
   ]
  },
  {
   "cell_type": "code",
   "execution_count": 156,
   "id": "2e0d4877",
   "metadata": {},
   "outputs": [],
   "source": [
    "import pandas as pd\n",
    "\n",
    "feedbacks = pd.read_csv('ACME-HappinessSurvey2020.csv')"
   ]
  },
  {
   "cell_type": "markdown",
   "id": "224fe388",
   "metadata": {},
   "source": [
    "### 1.2. Data Description"
   ]
  },
  {
   "cell_type": "code",
   "execution_count": 157,
   "id": "2bd0a764",
   "metadata": {},
   "outputs": [
    {
     "data": {
      "text/html": [
       "<div>\n",
       "<style scoped>\n",
       "    .dataframe tbody tr th:only-of-type {\n",
       "        vertical-align: middle;\n",
       "    }\n",
       "\n",
       "    .dataframe tbody tr th {\n",
       "        vertical-align: top;\n",
       "    }\n",
       "\n",
       "    .dataframe thead th {\n",
       "        text-align: right;\n",
       "    }\n",
       "</style>\n",
       "<table border=\"1\" class=\"dataframe\">\n",
       "  <thead>\n",
       "    <tr style=\"text-align: right;\">\n",
       "      <th></th>\n",
       "      <th>Y</th>\n",
       "      <th>X1</th>\n",
       "      <th>X2</th>\n",
       "      <th>X3</th>\n",
       "      <th>X4</th>\n",
       "      <th>X5</th>\n",
       "      <th>X6</th>\n",
       "    </tr>\n",
       "  </thead>\n",
       "  <tbody>\n",
       "    <tr>\n",
       "      <th>0</th>\n",
       "      <td>0</td>\n",
       "      <td>3</td>\n",
       "      <td>3</td>\n",
       "      <td>3</td>\n",
       "      <td>4</td>\n",
       "      <td>2</td>\n",
       "      <td>4</td>\n",
       "    </tr>\n",
       "    <tr>\n",
       "      <th>1</th>\n",
       "      <td>0</td>\n",
       "      <td>3</td>\n",
       "      <td>2</td>\n",
       "      <td>3</td>\n",
       "      <td>5</td>\n",
       "      <td>4</td>\n",
       "      <td>3</td>\n",
       "    </tr>\n",
       "    <tr>\n",
       "      <th>2</th>\n",
       "      <td>1</td>\n",
       "      <td>5</td>\n",
       "      <td>3</td>\n",
       "      <td>3</td>\n",
       "      <td>3</td>\n",
       "      <td>3</td>\n",
       "      <td>5</td>\n",
       "    </tr>\n",
       "    <tr>\n",
       "      <th>3</th>\n",
       "      <td>0</td>\n",
       "      <td>5</td>\n",
       "      <td>4</td>\n",
       "      <td>3</td>\n",
       "      <td>3</td>\n",
       "      <td>3</td>\n",
       "      <td>5</td>\n",
       "    </tr>\n",
       "    <tr>\n",
       "      <th>4</th>\n",
       "      <td>0</td>\n",
       "      <td>5</td>\n",
       "      <td>4</td>\n",
       "      <td>3</td>\n",
       "      <td>3</td>\n",
       "      <td>3</td>\n",
       "      <td>5</td>\n",
       "    </tr>\n",
       "  </tbody>\n",
       "</table>\n",
       "</div>"
      ],
      "text/plain": [
       "   Y  X1  X2  X3  X4  X5  X6\n",
       "0  0   3   3   3   4   2   4\n",
       "1  0   3   2   3   5   4   3\n",
       "2  1   5   3   3   3   3   5\n",
       "3  0   5   4   3   3   3   5\n",
       "4  0   5   4   3   3   3   5"
      ]
     },
     "execution_count": 157,
     "metadata": {},
     "output_type": "execute_result"
    }
   ],
   "source": [
    "feedbacks.head(5)"
   ]
  },
  {
   "cell_type": "markdown",
   "id": "758f2760",
   "metadata": {},
   "source": [
    "The dataset consists of 7 variables. X1-X6 represent responses to the survey's question. Whereas Y indicates the happiness of the customer.  \n",
    "Y – Target variable where 0 indicate a customer is unhappy and 1 indicate that customer is happy  \n",
    "X1 – Order delivered on time  \n",
    "X2 – Contents of the order are as expected  \n",
    "X3 – Ordered everything required  \n",
    "X4 – Pay a good price for the order  \n",
    "X5 – Satisfy with a courier  \n",
    "X6 – Ordering through the app is easy  \n",
    "Value of X1-X6 ranging between 1 and 5. A high value means customers agree and low means disagree. "
   ]
  },
  {
   "cell_type": "markdown",
   "id": "8d12a0e7",
   "metadata": {},
   "source": [
    "### 1.3. Statistical Summary"
   ]
  },
  {
   "cell_type": "code",
   "execution_count": 158,
   "id": "563bea01",
   "metadata": {},
   "outputs": [
    {
     "data": {
      "text/html": [
       "<div>\n",
       "<style scoped>\n",
       "    .dataframe tbody tr th:only-of-type {\n",
       "        vertical-align: middle;\n",
       "    }\n",
       "\n",
       "    .dataframe tbody tr th {\n",
       "        vertical-align: top;\n",
       "    }\n",
       "\n",
       "    .dataframe thead th {\n",
       "        text-align: right;\n",
       "    }\n",
       "</style>\n",
       "<table border=\"1\" class=\"dataframe\">\n",
       "  <thead>\n",
       "    <tr style=\"text-align: right;\">\n",
       "      <th></th>\n",
       "      <th>Y</th>\n",
       "      <th>X1</th>\n",
       "      <th>X2</th>\n",
       "      <th>X3</th>\n",
       "      <th>X4</th>\n",
       "      <th>X5</th>\n",
       "      <th>X6</th>\n",
       "    </tr>\n",
       "  </thead>\n",
       "  <tbody>\n",
       "    <tr>\n",
       "      <th>count</th>\n",
       "      <td>126</td>\n",
       "      <td>126</td>\n",
       "      <td>126</td>\n",
       "      <td>126</td>\n",
       "      <td>126</td>\n",
       "      <td>126</td>\n",
       "      <td>126</td>\n",
       "    </tr>\n",
       "    <tr>\n",
       "      <th>unique</th>\n",
       "      <td>2</td>\n",
       "      <td>4</td>\n",
       "      <td>5</td>\n",
       "      <td>5</td>\n",
       "      <td>5</td>\n",
       "      <td>5</td>\n",
       "      <td>5</td>\n",
       "    </tr>\n",
       "    <tr>\n",
       "      <th>top</th>\n",
       "      <td>1</td>\n",
       "      <td>5</td>\n",
       "      <td>3</td>\n",
       "      <td>3</td>\n",
       "      <td>4</td>\n",
       "      <td>4</td>\n",
       "      <td>5</td>\n",
       "    </tr>\n",
       "    <tr>\n",
       "      <th>freq</th>\n",
       "      <td>69</td>\n",
       "      <td>65</td>\n",
       "      <td>42</td>\n",
       "      <td>55</td>\n",
       "      <td>53</td>\n",
       "      <td>50</td>\n",
       "      <td>57</td>\n",
       "    </tr>\n",
       "  </tbody>\n",
       "</table>\n",
       "</div>"
      ],
      "text/plain": [
       "          Y   X1   X2   X3   X4   X5   X6\n",
       "count   126  126  126  126  126  126  126\n",
       "unique    2    4    5    5    5    5    5\n",
       "top       1    5    3    3    4    4    5\n",
       "freq     69   65   42   55   53   50   57"
      ]
     },
     "execution_count": 158,
     "metadata": {},
     "output_type": "execute_result"
    }
   ],
   "source": [
    "feedbacks.astype('category').describe()"
   ]
  },
  {
   "cell_type": "markdown",
   "id": "9d828cf0",
   "metadata": {},
   "source": [
    "The above table shows the statistical summary of the feedback dataset. This shows total observations, number of unique values, top value and frequency."
   ]
  },
  {
   "cell_type": "markdown",
   "id": "0681e00e",
   "metadata": {},
   "source": [
    "### 1.4. Data Distribution"
   ]
  },
  {
   "cell_type": "markdown",
   "id": "5441473d",
   "metadata": {},
   "source": [
    "Assumption 1 : 3 is a neutral rating. Higher than 3 customer agrees to statement. In contrast, less than 3 customer disagrees with the statement."
   ]
  },
  {
   "cell_type": "code",
   "execution_count": 159,
   "id": "9c6c96c1",
   "metadata": {},
   "outputs": [
    {
     "data": {
      "text/plain": [
       "<AxesSubplot:xlabel='X1', ylabel='count'>"
      ]
     },
     "execution_count": 159,
     "metadata": {},
     "output_type": "execute_result"
    },
    {
     "data": {
      "image/png": "[encoded data removed]",
      "text/plain": [
       "<Figure size 432x288 with 1 Axes>"
      ]
     },
     "metadata": {
      "needs_background": "light"
     },
     "output_type": "display_data"
    }
   ],
   "source": [
    "import seaborn as sns\n",
    "\n",
    "sns.countplot(x=\"X1\",hue=\"Y\",data=feedbacks)"
   ]
  },
  {
   "cell_type": "markdown",
   "id": "4b78f88a",
   "metadata": {},
   "source": [
    "This graph shows customer has given higher ratings for the question on timely deliver.  \n",
    "The above bar graph shows that customer who agrees that the order was delivered on time are happier. Happy customers who rate this question 5 is double those who are not happy and rate question 5.\n"
   ]
  },
  {
   "cell_type": "code",
   "execution_count": 160,
   "id": "f518f5e4",
   "metadata": {
    "scrolled": true
   },
   "outputs": [
    {
     "data": {
      "text/plain": [
       "<AxesSubplot:xlabel='X2', ylabel='count'>"
      ]
     },
     "execution_count": 160,
     "metadata": {},
     "output_type": "execute_result"
    },
    {
     "data": {
      "image/png": "[encoded data removed]",
      "text/plain": [
       "<Figure size 432x288 with 1 Axes>"
      ]
     },
     "metadata": {
      "needs_background": "light"
     },
     "output_type": "display_data"
    }
   ],
   "source": [
    "sns.countplot(x=\"X2\",hue=\"Y\",data=feedbacks)"
   ]
  },
  {
   "cell_type": "markdown",
   "id": "ad156f4e",
   "metadata": {},
   "source": [
    "The above graph shows that customers mostly disagree that the content of the order is as expected because the bar chart is skewed to the left.  \n",
    "No significant trend can be seen between happy and unhappy customers for the rating of this question.\n"
   ]
  },
  {
   "cell_type": "code",
   "execution_count": 161,
   "id": "961e61f5",
   "metadata": {
    "scrolled": true
   },
   "outputs": [
    {
     "data": {
      "text/plain": [
       "<AxesSubplot:xlabel='X3', ylabel='count'>"
      ]
     },
     "execution_count": 161,
     "metadata": {},
     "output_type": "execute_result"
    },
    {
     "data": {
      "image/png": "[encoded data removed]",
      "text/plain": [
       "<Figure size 432x288 with 1 Axes>"
      ]
     },
     "metadata": {
      "needs_background": "light"
     },
     "output_type": "display_data"
    }
   ],
   "source": [
    "sns.countplot(x=\"X3\",hue=\"Y\",data=feedbacks)"
   ]
  },
  {
   "cell_type": "markdown",
   "id": "25a575c2",
   "metadata": {},
   "source": [
    "The above bar graph is skewed on the right hence the number of customers who agrees to question X3 is more than those who disagree.  \n",
    "There is a high chance of customers being happy if they agree that they ordered everything which they want to order.\n"
   ]
  },
  {
   "cell_type": "code",
   "execution_count": 162,
   "id": "cb0b4cd3",
   "metadata": {
    "scrolled": true
   },
   "outputs": [
    {
     "data": {
      "text/plain": [
       "<AxesSubplot:xlabel='X4', ylabel='count'>"
      ]
     },
     "execution_count": 162,
     "metadata": {},
     "output_type": "execute_result"
    },
    {
     "data": {
      "image/png": "[encoded data removed]",
      "text/plain": [
       "<Figure size 432x288 with 1 Axes>"
      ]
     },
     "metadata": {
      "needs_background": "light"
     },
     "output_type": "display_data"
    }
   ],
   "source": [
    "sns.countplot(x=\"X4\",hue=\"Y\",data=feedbacks)"
   ]
  },
  {
   "cell_type": "markdown",
   "id": "3a64c702",
   "metadata": {},
   "source": [
    "The above bar graph is skewed on the right hence the number of customers who agrees to question X4 is more than those who disagree.  \n",
    "There is a high chance of customers being happy if they agree that they paid a good price for the order.\n"
   ]
  },
  {
   "cell_type": "code",
   "execution_count": 163,
   "id": "40be411b",
   "metadata": {
    "scrolled": true
   },
   "outputs": [
    {
     "data": {
      "text/plain": [
       "<AxesSubplot:xlabel='X5', ylabel='count'>"
      ]
     },
     "execution_count": 163,
     "metadata": {},
     "output_type": "execute_result"
    },
    {
     "data": {
      "image/png": "[encoded data removed]",
      "text/plain": [
       "<Figure size 432x288 with 1 Axes>"
      ]
     },
     "metadata": {
      "needs_background": "light"
     },
     "output_type": "display_data"
    }
   ],
   "source": [
    "sns.countplot(x=\"X5\",hue=\"Y\",data=feedbacks)"
   ]
  },
  {
   "cell_type": "markdown",
   "id": "227f69e8",
   "metadata": {},
   "source": [
    "The above bar graph is skewed on the right hence the number of customers who agrees to question X5 is more than those who disagree.  \n",
    "There is a high chance of customers being happy if they agree that they are satisfied with the courier.\n"
   ]
  },
  {
   "cell_type": "code",
   "execution_count": 164,
   "id": "ff2c59b0",
   "metadata": {
    "scrolled": true
   },
   "outputs": [
    {
     "data": {
      "text/plain": [
       "<AxesSubplot:xlabel='X6', ylabel='count'>"
      ]
     },
     "execution_count": 164,
     "metadata": {},
     "output_type": "execute_result"
    },
    {
     "data": {
      "image/png": "[encoded data removed]",
      "text/plain": [
       "<Figure size 432x288 with 1 Axes>"
      ]
     },
     "metadata": {
      "needs_background": "light"
     },
     "output_type": "display_data"
    }
   ],
   "source": [
    "sns.countplot(x=\"X6\",hue=\"Y\",data=feedbacks)"
   ]
  },
  {
   "cell_type": "markdown",
   "id": "a6fa0152",
   "metadata": {},
   "source": [
    "The above bar graph is skewed on the right hence the number of customers who agrees to question X6 is more than those who disagree.  \n",
    "There is a high chance of customers being happy if they agree that ordering through the app is easy.\n"
   ]
  },
  {
   "cell_type": "markdown",
   "id": "fd1bc4c6",
   "metadata": {},
   "source": [
    "### 1.5. Correlation Analysis"
   ]
  },
  {
   "cell_type": "code",
   "execution_count": 165,
   "id": "c533748c",
   "metadata": {},
   "outputs": [
    {
     "data": {
      "text/plain": [
       "<AxesSubplot:>"
      ]
     },
     "execution_count": 165,
     "metadata": {},
     "output_type": "execute_result"
    },
    {
     "data": {
      "image/png": "[encoded data removed]",
      "text/plain": [
       "<Figure size 432x288 with 2 Axes>"
      ]
     },
     "metadata": {
      "needs_background": "light"
     },
     "output_type": "display_data"
    }
   ],
   "source": [
    "corr = feedbacks.corr()\n",
    "sns.heatmap(corr,annot=True)"
   ]
  },
  {
   "cell_type": "markdown",
   "id": "7bfe6d4b",
   "metadata": {},
   "source": [
    "The correlation graph shows that X2 and X4 are very less correlated with target variable Y. Hence, just content of order or price of the order being good individually have less impact on the customer is happy. Another variable has a nice correlation value with Y."
   ]
  },
  {
   "cell_type": "markdown",
   "id": "08e90778",
   "metadata": {},
   "source": [
    "## 2. Predictive Model"
   ]
  },
  {
   "cell_type": "markdown",
   "id": "0d0dce26",
   "metadata": {},
   "source": [
    "### 2.1. Data Partition"
   ]
  },
  {
   "cell_type": "code",
   "execution_count": 166,
   "id": "8b48faa5",
   "metadata": {},
   "outputs": [],
   "source": [
    "from sklearn.model_selection import train_test_split\n",
    "X = feedbacks.iloc[:,1:6]\n",
    "y = feedbacks.iloc[:,0]\n",
    "X_train, X_test, y_train, y_test = train_test_split(X, y, test_size=0.20, random_state=38)"
   ]
  },
  {
   "cell_type": "markdown",
   "id": "266ae9cc",
   "metadata": {},
   "source": [
    "### 2.2. K Nearest Neighbor"
   ]
  },
  {
   "cell_type": "markdown",
   "id": "864d90a1",
   "metadata": {},
   "source": [
    "#### 2.2.1. Model"
   ]
  },
  {
   "cell_type": "code",
   "execution_count": 167,
   "id": "fefe9e6a",
   "metadata": {},
   "outputs": [
    {
     "data": {
      "text/plain": [
       "KNeighborsClassifier(n_neighbors=2)"
      ]
     },
     "execution_count": 167,
     "metadata": {},
     "output_type": "execute_result"
    }
   ],
   "source": [
    "from sklearn.neighbors import KNeighborsClassifier\n",
    "\n",
    "knn = KNeighborsClassifier(n_neighbors=2)\n",
    "knn.fit(X_train, y_train)\n"
   ]
  },
  {
   "cell_type": "markdown",
   "id": "d950e7fe",
   "metadata": {},
   "source": [
    "#### 2.2.2. Fit Analysis"
   ]
  },
  {
   "cell_type": "code",
   "execution_count": 168,
   "id": "9838458e",
   "metadata": {},
   "outputs": [
    {
     "data": {
      "text/plain": [
       "array([[42, 21],\n",
       "       [ 2, 35]], dtype=int64)"
      ]
     },
     "execution_count": 168,
     "metadata": {},
     "output_type": "execute_result"
    }
   ],
   "source": [
    "from sklearn.metrics import confusion_matrix\n",
    "y_train_pred = knn.predict(X_train)\n",
    "confusion_matrix(y_train_pred,y_train)"
   ]
  },
  {
   "cell_type": "code",
   "execution_count": 169,
   "id": "b90604c6",
   "metadata": {
    "scrolled": true
   },
   "outputs": [
    {
     "data": {
      "text/plain": [
       "(0.77, 0.77, 0.7699999999999999, None)"
      ]
     },
     "execution_count": 169,
     "metadata": {},
     "output_type": "execute_result"
    }
   ],
   "source": [
    "from sklearn.metrics import precision_recall_fscore_support\n",
    "precision_recall_fscore_support(y_train, y_train_pred, average='micro')\n"
   ]
  },
  {
   "cell_type": "markdown",
   "id": "1939577e",
   "metadata": {},
   "source": [
    "For train data,  \n",
    "Precision = 0.77,  \n",
    "Recall = 0.77,  \n",
    "F1 = 0.77"
   ]
  },
  {
   "cell_type": "code",
   "execution_count": 170,
   "id": "9e8bf87d",
   "metadata": {},
   "outputs": [
    {
     "data": {
      "text/plain": [
       "array([[11,  4],\n",
       "       [ 2,  9]], dtype=int64)"
      ]
     },
     "execution_count": 170,
     "metadata": {},
     "output_type": "execute_result"
    }
   ],
   "source": [
    "y_test_pred = knn.predict(X_test)\n",
    "confusion_matrix(y_test_pred,y_test)"
   ]
  },
  {
   "cell_type": "code",
   "execution_count": 171,
   "id": "29d49bab",
   "metadata": {
    "scrolled": true
   },
   "outputs": [
    {
     "data": {
      "text/plain": [
       "(0.7692307692307693, 0.7692307692307693, 0.7692307692307693, None)"
      ]
     },
     "execution_count": 171,
     "metadata": {},
     "output_type": "execute_result"
    }
   ],
   "source": [
    "precision_recall_fscore_support(y_test, y_test_pred, average='micro')"
   ]
  },
  {
   "cell_type": "markdown",
   "id": "4eb032d6",
   "metadata": {},
   "source": [
    "For test data,  \n",
    "Precision = 0.77,  \n",
    "Recall = 0.77,  \n",
    "F1 = 0.77"
   ]
  },
  {
   "cell_type": "markdown",
   "id": "13e332fd",
   "metadata": {},
   "source": [
    "#### 2.2.3. Model Interpretation"
   ]
  },
  {
   "cell_type": "code",
   "execution_count": 172,
   "id": "9aa8e103",
   "metadata": {},
   "outputs": [
    {
     "name": "stderr",
     "output_type": "stream",
     "text": [
      "X does not have valid feature names, but KNeighborsClassifier was fitted with feature names\n"
     ]
    },
    {
     "data": {
      "application/vnd.jupyter.widget-view+json": {
       "model_id": "669f00ab5a5c48e09d3b881b04ee25f7",
       "version_major": 2,
       "version_minor": 0
      },
      "text/plain": [
       "  0%|          | 0/26 [00:00<?, ?it/s]"
      ]
     },
     "metadata": {},
     "output_type": "display_data"
    },
    {
     "name": "stderr",
     "output_type": "stream",
     "text": [
      "X does not have valid feature names, but KNeighborsClassifier was fitted with feature names\n",
      "X does not have valid feature names, but KNeighborsClassifier was fitted with feature names\n",
      "X does not have valid feature names, but KNeighborsClassifier was fitted with feature names\n",
      "X does not have valid feature names, but KNeighborsClassifier was fitted with feature names\n",
      "X does not have valid feature names, but KNeighborsClassifier was fitted with feature names\n",
      "X does not have valid feature names, but KNeighborsClassifier was fitted with feature names\n",
      "X does not have valid feature names, but KNeighborsClassifier was fitted with feature names\n",
      "X does not have valid feature names, but KNeighborsClassifier was fitted with feature names\n",
      "X does not have valid feature names, but KNeighborsClassifier was fitted with feature names\n",
      "X does not have valid feature names, but KNeighborsClassifier was fitted with feature names\n",
      "X does not have valid feature names, but KNeighborsClassifier was fitted with feature names\n",
      "X does not have valid feature names, but KNeighborsClassifier was fitted with feature names\n",
      "X does not have valid feature names, but KNeighborsClassifier was fitted with feature names\n",
      "X does not have valid feature names, but KNeighborsClassifier was fitted with feature names\n",
      "X does not have valid feature names, but KNeighborsClassifier was fitted with feature names\n",
      "X does not have valid feature names, but KNeighborsClassifier was fitted with feature names\n",
      "X does not have valid feature names, but KNeighborsClassifier was fitted with feature names\n",
      "X does not have valid feature names, but KNeighborsClassifier was fitted with feature names\n",
      "X does not have valid feature names, but KNeighborsClassifier was fitted with feature names\n",
      "X does not have valid feature names, but KNeighborsClassifier was fitted with feature names\n",
      "X does not have valid feature names, but KNeighborsClassifier was fitted with feature names\n",
      "X does not have valid feature names, but KNeighborsClassifier was fitted with feature names\n",
      "X does not have valid feature names, but KNeighborsClassifier was fitted with feature names\n",
      "X does not have valid feature names, but KNeighborsClassifier was fitted with feature names\n",
      "X does not have valid feature names, but KNeighborsClassifier was fitted with feature names\n",
      "X does not have valid feature names, but KNeighborsClassifier was fitted with feature names\n",
      "X does not have valid feature names, but KNeighborsClassifier was fitted with feature names\n",
      "X does not have valid feature names, but KNeighborsClassifier was fitted with feature names\n",
      "X does not have valid feature names, but KNeighborsClassifier was fitted with feature names\n",
      "X does not have valid feature names, but KNeighborsClassifier was fitted with feature names\n",
      "X does not have valid feature names, but KNeighborsClassifier was fitted with feature names\n",
      "X does not have valid feature names, but KNeighborsClassifier was fitted with feature names\n",
      "X does not have valid feature names, but KNeighborsClassifier was fitted with feature names\n",
      "X does not have valid feature names, but KNeighborsClassifier was fitted with feature names\n",
      "X does not have valid feature names, but KNeighborsClassifier was fitted with feature names\n",
      "X does not have valid feature names, but KNeighborsClassifier was fitted with feature names\n",
      "X does not have valid feature names, but KNeighborsClassifier was fitted with feature names\n",
      "X does not have valid feature names, but KNeighborsClassifier was fitted with feature names\n",
      "X does not have valid feature names, but KNeighborsClassifier was fitted with feature names\n",
      "X does not have valid feature names, but KNeighborsClassifier was fitted with feature names\n",
      "X does not have valid feature names, but KNeighborsClassifier was fitted with feature names\n",
      "X does not have valid feature names, but KNeighborsClassifier was fitted with feature names\n",
      "X does not have valid feature names, but KNeighborsClassifier was fitted with feature names\n",
      "X does not have valid feature names, but KNeighborsClassifier was fitted with feature names\n",
      "X does not have valid feature names, but KNeighborsClassifier was fitted with feature names\n",
      "X does not have valid feature names, but KNeighborsClassifier was fitted with feature names\n",
      "X does not have valid feature names, but KNeighborsClassifier was fitted with feature names\n",
      "X does not have valid feature names, but KNeighborsClassifier was fitted with feature names\n",
      "X does not have valid feature names, but KNeighborsClassifier was fitted with feature names\n",
      "X does not have valid feature names, but KNeighborsClassifier was fitted with feature names\n",
      "X does not have valid feature names, but KNeighborsClassifier was fitted with feature names\n",
      "X does not have valid feature names, but KNeighborsClassifier was fitted with feature names\n"
     ]
    }
   ],
   "source": [
    "import shap\n",
    "explainerKNN = shap.KernelExplainer(knn.predict, X_train)\n",
    "shap_values_KNN_test = explainerKNN.shap_values(X_test)"
   ]
  },
  {
   "cell_type": "code",
   "execution_count": 173,
   "id": "6435488f",
   "metadata": {},
   "outputs": [
    {
     "data": {
      "image/png": "[encoded data removed]",
      "text/plain": [
       "<Figure size 576x252 with 2 Axes>"
      ]
     },
     "metadata": {
      "needs_background": "light"
     },
     "output_type": "display_data"
    }
   ],
   "source": [
    "shap.summary_plot(shap_values_KNN_test,X_test)"
   ]
  },
  {
   "cell_type": "markdown",
   "id": "468eeb5f",
   "metadata": {},
   "source": [
    "The above diagram helps to understand the working of the model.  \n",
    "With the increase in ratting for timely delivery of order i.e., X1 increases predictability of customer being happy.  \n",
    "An increase in customer satisfaction on courier increases the chance of customer predicted as satisfied.\n"
   ]
  },
  {
   "cell_type": "markdown",
   "id": "c759990c",
   "metadata": {},
   "source": [
    "### 2.3. Xgboost"
   ]
  },
  {
   "cell_type": "markdown",
   "id": "08051a65",
   "metadata": {},
   "source": [
    "#### 2.3.1. Model"
   ]
  },
  {
   "cell_type": "code",
   "execution_count": 174,
   "id": "98d7ae16",
   "metadata": {},
   "outputs": [
    {
     "name": "stderr",
     "output_type": "stream",
     "text": [
      "The use of label encoder in XGBClassifier is deprecated and will be removed in a future release. To remove this warning, do the following: 1) Pass option use_label_encoder=False when constructing XGBClassifier object; and 2) Encode your labels (y) as integers starting with 0, i.e. 0, 1, 2, ..., [num_class - 1].\n"
     ]
    },
    {
     "data": {
      "text/plain": [
       "XGBClassifier(base_score=0.5, booster='gbtree', colsample_bylevel=1,\n",
       "              colsample_bynode=1, colsample_bytree=1, enable_categorical=False,\n",
       "              gamma=0, gpu_id=-1, importance_type=None,\n",
       "              interaction_constraints='', learning_rate=0.300000012,\n",
       "              max_delta_step=0, max_depth=6, min_child_weight=1, missing=nan,\n",
       "              monotone_constraints='()', n_estimators=9, n_jobs=12,\n",
       "              num_parallel_tree=1, objective='reg:logistic', predictor='auto',\n",
       "              random_state=32, reg_alpha=0, reg_lambda=1, scale_pos_weight=1,\n",
       "              seed=32, subsample=1, tree_method='exact', validate_parameters=1,\n",
       "              verbosity=None)"
      ]
     },
     "execution_count": 174,
     "metadata": {},
     "output_type": "execute_result"
    }
   ],
   "source": [
    "import xgboost as xgb\n",
    "xg_cl = xgb.XGBClassifier(objective='reg:logistic',\n",
    "                         n_estimators=9, seed=32)\n",
    "xg_cl.fit(X_train,y_train)"
   ]
  },
  {
   "cell_type": "markdown",
   "id": "e332529d",
   "metadata": {},
   "source": [
    "#### 2.3.2. Fit Analysis"
   ]
  },
  {
   "cell_type": "code",
   "execution_count": 175,
   "id": "bc2024c0",
   "metadata": {},
   "outputs": [
    {
     "data": {
      "text/plain": [
       "array([[30,  6],\n",
       "       [14, 50]], dtype=int64)"
      ]
     },
     "execution_count": 175,
     "metadata": {},
     "output_type": "execute_result"
    }
   ],
   "source": [
    "y_train_pred = xg_cl.predict(X_train)\n",
    "confusion_matrix(y_train_pred,y_train)"
   ]
  },
  {
   "cell_type": "code",
   "execution_count": 176,
   "id": "c9bb492a",
   "metadata": {},
   "outputs": [
    {
     "data": {
      "text/plain": [
       "(0.8, 0.8, 0.8000000000000002, None)"
      ]
     },
     "execution_count": 176,
     "metadata": {},
     "output_type": "execute_result"
    }
   ],
   "source": [
    "precision_recall_fscore_support(y_train, y_train_pred, average='micro')"
   ]
  },
  {
   "cell_type": "markdown",
   "id": "e4fda8ae",
   "metadata": {},
   "source": [
    "For test data,  \n",
    "Precision = 0.8,  \n",
    "Recall = 0.8,  \n",
    "F1 = 0.8"
   ]
  },
  {
   "cell_type": "code",
   "execution_count": 177,
   "id": "e8826dae",
   "metadata": {},
   "outputs": [
    {
     "data": {
      "text/plain": [
       "array([[ 5,  1],\n",
       "       [ 8, 12]], dtype=int64)"
      ]
     },
     "execution_count": 177,
     "metadata": {},
     "output_type": "execute_result"
    }
   ],
   "source": [
    "y_test_pred = xg_cl.predict(X_test)\n",
    "confusion_matrix(y_test_pred,y_test)"
   ]
  },
  {
   "cell_type": "code",
   "execution_count": 178,
   "id": "d679a0fd",
   "metadata": {
    "scrolled": true
   },
   "outputs": [
    {
     "data": {
      "text/plain": [
       "(0.6538461538461539, 0.6538461538461539, 0.6538461538461539, None)"
      ]
     },
     "execution_count": 178,
     "metadata": {},
     "output_type": "execute_result"
    }
   ],
   "source": [
    "precision_recall_fscore_support(y_test, y_test_pred, average='micro')"
   ]
  },
  {
   "cell_type": "markdown",
   "id": "6883574b",
   "metadata": {},
   "source": [
    "For test data,  \n",
    "Precision = 0.65,  \n",
    "Recall = 0.65,  \n",
    "F1 = 0.65"
   ]
  },
  {
   "cell_type": "markdown",
   "id": "81bd86ed",
   "metadata": {},
   "source": [
    "#### 2.2.3. Model Interpretation"
   ]
  },
  {
   "cell_type": "code",
   "execution_count": 179,
   "id": "49e7fe67",
   "metadata": {},
   "outputs": [
    {
     "data": {
      "application/vnd.jupyter.widget-view+json": {
       "model_id": "1a721e20706f4dc58c9ceb300ba91cd1",
       "version_major": 2,
       "version_minor": 0
      },
      "text/plain": [
       "  0%|          | 0/26 [00:00<?, ?it/s]"
      ]
     },
     "metadata": {},
     "output_type": "display_data"
    }
   ],
   "source": [
    "import shap\n",
    "explainerXG = shap.KernelExplainer(xg_cl.predict, X_train)\n",
    "shap_values_XG_test = explainerXG.shap_values(X_test)"
   ]
  },
  {
   "cell_type": "code",
   "execution_count": 180,
   "id": "94d31326",
   "metadata": {
    "scrolled": true
   },
   "outputs": [
    {
     "data": {
      "image/png": "[encoded data removed]",
      "text/plain": [
       "<Figure size 576x252 with 2 Axes>"
      ]
     },
     "metadata": {
      "needs_background": "light"
     },
     "output_type": "display_data"
    }
   ],
   "source": [
    "shap.summary_plot(shap_values_XG_test,X_test)"
   ]
  },
  {
   "cell_type": "markdown",
   "id": "6a466d15",
   "metadata": {},
   "source": [
    "The above diagram helps to understand the working of the XGboost model.  \n",
    "Increase in customer satisfaction for timely delivery increases predictability of customer being happy.  \n",
    "This model penalises predictability of customer being happy with increasing value of ratting of content of order is as expected and paid good price for order.\n"
   ]
  },
  {
   "cell_type": "markdown",
   "id": "12d74f1f",
   "metadata": {},
   "source": [
    "## 3. Conclusion"
   ]
  },
  {
   "cell_type": "markdown",
   "id": "d98b36fa",
   "metadata": {},
   "source": [
    "More customers disagree that the content of the order was as expected. Whereas most of them agree with other statements.  \n",
    "Earlier exploration suggests that customer being happy is very less correlated with the content of order was as expected and paid a good price for an order.  \n",
    "KNN model performs better than the XGBoost model. KNN has 0.77 precision, recall and f1 score for both train and test datasets. KNN is also a simple model compared to XGBoost. For the proposed KNN model which has the number of neighbours, the value is 2 has the most important variable X1. An increase in stratification for timely delivery increase predictably for the customer to be happy.\n"
   ]
  },
  {
   "cell_type": "code",
   "execution_count": null,
   "id": "8e09f0ad",
   "metadata": {},
   "outputs": [],
   "source": []
  }
 ],
 "metadata": {
  "kernelspec": {
   "display_name": "Python 3 (ipykernel)",
   "language": "python",
   "name": "python3"
  },
  "language_info": {
   "codemirror_mode": {
    "name": "ipython",
    "version": 3
   },
   "file_extension": ".py",
   "mimetype": "text/x-python",
   "name": "python",
   "nbconvert_exporter": "python",
   "pygments_lexer": "ipython3",
   "version": "3.9.7"
  }
 },
 "nbformat": 4,
 "nbformat_minor": 5
}
